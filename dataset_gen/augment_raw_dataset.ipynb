{
 "cells": [
  {
   "cell_type": "markdown",
   "id": "4b636e28",
   "metadata": {},
   "source": [
    "# Augmentations of Raw Arithmetic Dataset"
   ]
  },
  {
   "cell_type": "markdown",
   "id": "36dcb94b",
   "metadata": {},
   "source": [
    "The following code based off the `dataset.ipynb` Notebook from the GOAT_7B GitHub Repo. \n",
    "\n",
    "The `templates/goat.json` template is taken directly from the GOAT_7B GitHub Repo.\n",
    "\n",
    "[https://github.com/liutiedong/goat/tree/main]"
   ]
  },
  {
   "cell_type": "markdown",
   "id": "1a3667dd",
   "metadata": {},
   "source": [
    "## Numeric Representation Format"
   ]
  },
  {
   "cell_type": "markdown",
   "id": "14fb5cdb",
   "metadata": {},
   "source": [
    "This is Original Format Used by GOAT_7B Model."
   ]
  },
  {
   "cell_type": "code",
   "execution_count": 1,
   "id": "a282a007",
   "metadata": {},
   "outputs": [
    {
     "name": "stdout",
     "output_type": "stream",
     "text": [
      "Total: 500000\n"
     ]
    }
   ],
   "source": [
    "import json\n",
    "import random\n",
    "\n",
    "template_name = \"./templates/goat.json\"\n",
    "dataset_name = \"raw_dataset.json\"\n",
    "\n",
    "with open(template_name) as fp:\n",
    "    template = json.load(fp)\n",
    "\n",
    "with open(dataset_name,\"rb\") as test_file:\n",
    "    data_original = json.load(test_file)\n",
    "\n",
    "data_converted = []\n",
    "\n",
    "for instance in data_original:\n",
    "    \n",
    "    arithmetic = instance[\"input\"]\n",
    "    \n",
    "    output_dict = {}\n",
    "        \n",
    "    \n",
    "    # add noise to instruction so that the model is robust to diverse question formats \n",
    "    if random.random() < 0.05:\n",
    "        if \" + \" in arithmetic:\n",
    "            arithmetic = \"the sum of \" + arithmetic.replace(\"+\", \"and\")\n",
    "\n",
    "        if \" - \" in arithmetic:\n",
    "            arithmetic = \"the difference of \" + arithmetic.replace(\"-\", \"and\")\n",
    "\n",
    "        if \" * \" in arithmetic:\n",
    "            arithmetic = \"the product of \" + arithmetic.replace(\"*\", \"and\")\n",
    "\n",
    "        if \" / \" in arithmetic:\n",
    "            arithmetic = \"the quotient and remainder of \" + arithmetic.replace(\"/\", \"and\")\n",
    "\n",
    "    if random.random() < 0.5:\n",
    "        arithmetic = arithmetic.replace(\"*\", \"x\")    \n",
    "\n",
    "    if random.random() < 0.1:\n",
    "        arithmetic = arithmetic.replace(\"+\", \"plus\").replace(\"-\", \"minus\")\n",
    "        arithmetic = arithmetic.replace(\" x \", \" times \").replace(\"*\", \"multiplied by\").replace(\"/\", \"divided by\")    \n",
    "\n",
    "    if random.random() < 0.5:\n",
    "        if \"+\" in arithmetic or \"-\" in arithmetic or \"*\" in arithmetic or \"/\" in arithmetic or \"x\" in arithmetic:\n",
    "            arithmetic = arithmetic.replace(\" \", \"\")        \n",
    "\n",
    "    num = random.randint(1,500)\n",
    "\n",
    "    instruction = template[str(num)].format(\n",
    "        input = arithmetic\n",
    "    )\n",
    "    \n",
    "    output_dict[\"instruction\"] = instruction\n",
    "    output_dict[\"input\"] = instance[\"input\"]\n",
    "    output_dict[\"output\"] = instance[\"output\"]\n",
    "    output_dict[\"answer\"] = instance[\"answer\"]\n",
    "    \n",
    "    data_converted.append(output_dict)\n",
    "\n",
    "print(\"Total:\", len(data_converted))\n",
    "\n",
    "with open(\"numRep_dataset.json\", \"w\") as f:\n",
    "    json.dump(data_converted, f, indent=4)"
   ]
  },
  {
   "cell_type": "markdown",
   "id": "20fa20f0",
   "metadata": {},
   "source": [
    "## Word Problem Representation Format"
   ]
  },
  {
   "cell_type": "markdown",
   "id": "59ac4787",
   "metadata": {},
   "source": [
    "NEED TO REMAKE THIS CODE AND TEMPLATE!!!"
   ]
  },
  {
   "cell_type": "markdown",
   "id": "b0c7e739",
   "metadata": {},
   "source": [
    "## Alpha Character Representation Format"
   ]
  },
  {
   "cell_type": "code",
   "execution_count": null,
   "id": "a4fa7c5a",
   "metadata": {},
   "outputs": [
    {
     "name": "stdout",
     "output_type": "stream",
     "text": [
      "{'input': 'thirty-three * five', 'output': 'thirty-three * five = one hundred and sixty-five', 'answer': 'one hundred and sixty-five'}\n",
      "{'input': 'five million, seven hundred and twenty-one thousand, one hundred and sixty-one + six thousand, five hundred and twenty-six', 'output': 'five million, seven hundred and twenty-one thousand, one hundred and sixty-one + six thousand, five hundred and twenty-six = five million, seven hundred and twenty-seven thousand, six hundred and eighty-seven', 'answer': 'five million, seven hundred and twenty-seven thousand, six hundred and eighty-seven'}\n"
     ]
    }
   ],
   "source": [
    "from num2words import num2words\n",
    "\n",
    "def num_word_conv(matchobj):\n",
    "    return num2words(matchobj.group(0))"
   ]
  },
  {
   "cell_type": "code",
   "execution_count": null,
   "id": "b22e2240",
   "metadata": {},
   "outputs": [
    {
     "name": "stdout",
     "output_type": "stream",
     "text": [
      "Total: 100000\n",
      "Instructions added!\n"
     ]
    }
   ],
   "source": [
    "### Add natural language instruction to the generated arithmetic data using template\n",
    "import random\n",
    "import json\n",
    "import re\n",
    "\n",
    "template_name = \"./templates/goat.json\"\n",
    "\n",
    "with open(template_name) as fp:\n",
    "    template = json.load(fp)\n",
    "\n",
    "dataset_name = \"raw_dataset.json\"\n",
    "\n",
    "with open(dataset_name,\"rb\") as test_file:\n",
    "    data_original = json.load(test_file)\n",
    "\n",
    "data_formatted = []\n",
    "\n",
    "for instance in data_original:\n",
    "    \n",
    "    arithmetic = instance[\"input\"]\n",
    "    \n",
    "    output_dict = {}\n",
    "        \n",
    "    \n",
    "    # add noise to instruction so that the model is robust to diverse question formats \n",
    "    if random.random() < 0.05:\n",
    "        if \" + \" in arithmetic:\n",
    "            arithmetic = \"the sum of \" + arithmetic.replace(\"+\", \" and \")\n",
    "\n",
    "        if \" - \" in arithmetic:\n",
    "            arithmetic = \"the difference of \" + arithmetic.replace(\"-\", \" and \")\n",
    "\n",
    "        if \" * \" in arithmetic:\n",
    "            arithmetic = \"the product of \" + arithmetic.replace(\"*\", \" and \")\n",
    "\n",
    "        if \" / \" in arithmetic:\n",
    "            arithmetic = \"the quotient and remainder of \" + arithmetic.replace(\"/\", \" and \")\n",
    "\n",
    "    arithmetic = arithmetic.replace(\"+\", \"plus\").replace(\"-\", \"minus\")\n",
    "    arithmetic = arithmetic.replace(\"*\", \"multiplied by\").replace(\"/\", \"divided by\")    \n",
    "\n",
    "    num = random.randint(1,500)\n",
    "\n",
    "    instruction = template[str(num)].format(\n",
    "        input = arithmetic\n",
    "    )\n",
    "    \n",
    "    output_dict[\"instruction\"] = re.sub('\\d+', num_word_conv, instruction)\n",
    "    output_dict[\"input\"] = re.sub('\\d+', num_word_conv, instance[\"input\"])\n",
    "    output_dict[\"output\"] = re.sub('\\d+', num_word_conv, instance[\"output\"])\n",
    "    output_dict[\"answer\"] = re.sub('\\d+', num_word_conv, instance[\"answer\"])\n",
    "    \n",
    "    data_formatted.append(output_dict)\n",
    "\n",
    "print(\"Total:\", len(data_formatted))\n",
    "\n",
    "with open(\"alpha_rep_dataset.json\", \"w\") as f:\n",
    "    json.dump(data_formatted, f, indent=4)"
   ]
  },
  {
   "cell_type": "markdown",
   "id": "dbca4103",
   "metadata": {},
   "source": [
    "## Alpha Character Representation Format of Instructions Only"
   ]
  },
  {
   "cell_type": "code",
   "execution_count": null,
   "id": "f6ed99ad",
   "metadata": {},
   "outputs": [],
   "source": [
    "from num2words import num2words\n",
    "\n",
    "def num_word_conv(matchobj):\n",
    "    return num2words(matchobj.group(0))"
   ]
  },
  {
   "cell_type": "code",
   "execution_count": null,
   "id": "0c2e84ef",
   "metadata": {},
   "outputs": [
    {
     "name": "stdout",
     "output_type": "stream",
     "text": [
      "Total: 500000\n",
      "Instructions added!\n"
     ]
    }
   ],
   "source": [
    "import random\n",
    "import re\n",
    "import json\n",
    "\n",
    "template_name = \"./templates/goat.json\"\n",
    "with open(template_name) as fp:\n",
    "    template = json.load(fp)\n",
    "\n",
    "dataset_name = \"raw_dataset_500K.json\"\n",
    "with open(dataset_name,\"rb\") as test_file:\n",
    "    data_original = json.load(test_file)\n",
    "\n",
    "data_formatted = []\n",
    "\n",
    "for instance in data_original:\n",
    "    \n",
    "    arithmetic = instance[\"input\"]\n",
    "    \n",
    "    output_dict = {}\n",
    "        \n",
    "    \n",
    "    # add noise to instruction so that the model is robust to diverse question formats \n",
    "    if random.random() < 0.05:\n",
    "        if \" + \" in arithmetic:\n",
    "            arithmetic = \"the sum of \" + arithmetic.replace(\"+\", \"and\")\n",
    "\n",
    "        if \" - \" in arithmetic:\n",
    "            arithmetic = \"the difference of \" + arithmetic.replace(\"-\", \"and\")\n",
    "\n",
    "        if \" * \" in arithmetic:\n",
    "            arithmetic = \"the product of \" + arithmetic.replace(\"*\", \"and\")\n",
    "\n",
    "        if \" / \" in arithmetic:\n",
    "            arithmetic = \"the quotient and remainder of \" + arithmetic.replace(\"/\", \"and\") \n",
    "\n",
    "    arithmetic = arithmetic.replace(\"+\", \"plus\").replace(\"-\", \"minus\")\n",
    "    arithmetic = arithmetic.replace(\"*\", \"multiplied by\").replace(\"/\", \"divided by\")            \n",
    "\n",
    "    num = random.randint(1,500)\n",
    "\n",
    "    instruction = template[str(num)].format(\n",
    "        input = arithmetic\n",
    "    )\n",
    "    \n",
    "    output_dict[\"instruction\"] = re.sub('\\d+', num_word_conv, instruction)\n",
    "    output_dict[\"input\"] = re.sub('\\d+', num_word_conv, instance[\"input\"])\n",
    "    output_dict[\"output\"] = instance[\"output\"]\n",
    "    output_dict[\"answer\"] = instance[\"answer\"]\n",
    "    \n",
    "    data_formatted.append(output_dict)\n",
    "\n",
    "print(\"Total:\", len(data_formatted))\n",
    "\n",
    "with open(\"alpha_rep_Instruct_dataset.json\", \"w\") as f:\n",
    "    json.dump(data_formatted, f, indent=4)"
   ]
  }
 ],
 "metadata": {
  "kernelspec": {
   "display_name": "Python 3 (ipykernel)",
   "language": "python",
   "name": "python3"
  },
  "language_info": {
   "codemirror_mode": {
    "name": "ipython",
    "version": 3
   },
   "file_extension": ".py",
   "mimetype": "text/x-python",
   "name": "python",
   "nbconvert_exporter": "python",
   "pygments_lexer": "ipython3",
   "version": "3.10.12"
  }
 },
 "nbformat": 4,
 "nbformat_minor": 5
}
