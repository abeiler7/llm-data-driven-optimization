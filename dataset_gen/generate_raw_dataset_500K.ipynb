{
 "cells": [
  {
   "cell_type": "markdown",
   "id": "4b636e28",
   "metadata": {},
   "source": [
    "# Goat Dataset"
   ]
  },
  {
   "cell_type": "markdown",
   "id": "985c081d",
   "metadata": {},
   "source": [
    "The following code based off the `dataset.ipynb` Notebook from the GOAT_7B GitHub Repo. \n",
    "\n",
    "[https://github.com/liutiedong/goat/tree/main]"
   ]
  },
  {
   "cell_type": "code",
   "execution_count": 1,
   "id": "8d1ef52c",
   "metadata": {},
   "outputs": [],
   "source": [
    "import json\n",
    "import os.path as osp\n",
    "import random\n",
    "from typing import Union"
   ]
  },
  {
   "cell_type": "code",
   "execution_count": 2,
   "id": "5c250530",
   "metadata": {},
   "outputs": [
    {
     "name": "stdout",
     "output_type": "stream",
     "text": [
      "Addition: 46000\n"
     ]
    }
   ],
   "source": [
    "# Addition up to 16 digits\n",
    "n = 8\n",
    "\n",
    "pairs = \\\n",
    "[(random.randint(10**(i-1), 10**i), random.randint(10**(j-1), 10**j)) for i in range(1,n) for j in range(i,n) for k in range(1000)] +\\\n",
    "[(random.randint(10**(i-1), 10**i), random.randint(10**(j-1), 10**j)) for i in range(3,n) for j in range(i,n) for k in range(1000)] +\\\n",
    "[(random.randint(10**(i-1), 10**i), random.randint(10**(j-1), 10**j)) for i in range(6,n) for j in range(i,n) for k in range(1000)] #+\\\n",
    "# [(random.randint(10**(i-1), 10**i), random.randint(10**(j-1), 10**j)) for i in range(9,16) for j in range(i,16) for k in range(1000)] +\\\n",
    "# [(random.randint(10**(i-1), 10**i), random.randint(10**(j-1), 10**j)) for i in range(12,16) for j in range(i,16) for k in range(1000)] \n",
    "\n",
    "random.shuffle(pairs)\n",
    "\n",
    "print(\"Addition:\", len(pairs))\n",
    "\n",
    "data_add = []\n",
    "\n",
    "for num1, num2 in pairs:\n",
    "    \n",
    "    if random.random()<0.5:\n",
    "        num1, num2 = num2, num1 \n",
    "\n",
    "    answer = num1 + num2\n",
    "    \n",
    "    question = f\"{num1} + {num2}\" \n",
    "    output = f\"{num1} + {num2} = {answer}\"\n",
    "    \n",
    "    assert(output.split()[-1] == str(answer))\n",
    "    data_add.append({\"input\": question, \"output\": output, \"answer\": str(answer)})\n",
    "\n",
    "\n",
    "# with open(\"dataset.json\", \"w\") as f:\n",
    "#     json.dump(data_add, f, indent=4)"
   ]
  },
  {
   "cell_type": "code",
   "execution_count": 3,
   "id": "867ff06a",
   "metadata": {},
   "outputs": [
    {
     "name": "stdout",
     "output_type": "stream",
     "text": [
      "{'input': '10 + 4324265', 'output': '10 + 4324265 = 4324275', 'answer': '4324275'}\n"
     ]
    }
   ],
   "source": [
    "print(data_add[0])"
   ]
  },
  {
   "cell_type": "code",
   "execution_count": 4,
   "id": "29ea50c1",
   "metadata": {},
   "outputs": [
    {
     "name": "stdout",
     "output_type": "stream",
     "text": [
      "Subtraction: 69000\n"
     ]
    }
   ],
   "source": [
    "# Subtraction up to 16 digits\n",
    "n = 8\n",
    "\n",
    "pairs = \\\n",
    "[(random.randint(10**(i-1), 10**i), random.randint(10**(j-1), 10**j)) for i in range(1,n) for j in range(i,n) for k in range(1500)] +\\\n",
    "[(random.randint(10**(i-1), 10**i), random.randint(10**(j-1), 10**j)) for i in range(3,n) for j in range(i,n) for k in range(1500)] +\\\n",
    "[(random.randint(10**(i-1), 10**i), random.randint(10**(j-1), 10**j)) for i in range(6,n) for j in range(i,n) for k in range(1500)] #+\\\n",
    "# [(random.randint(10**(i-1), 10**i), random.randint(10**(j-1), 10**j)) for i in range(9,16) for j in range(i,n) for k in range(1000)] +\\\n",
    "# [(random.randint(10**(i-1), 10**i), random.randint(10**(j-1), 10**j)) for i in range(12,16) for j in range(i,n) for k in range(1000)] \n",
    "\n",
    "random.shuffle(pairs)\n",
    "\n",
    "print(\"Subtraction:\", len(pairs))\n",
    "\n",
    "data_sub = []\n",
    "\n",
    "for num1, num2 in pairs:\n",
    "    \n",
    "    if random.random()<0.5:\n",
    "        num1, num2 = num2, num1 \n",
    "\n",
    "    answer = num1 - num2\n",
    "    \n",
    "    question = f\"{num1} - {num2}\" \n",
    "    output = f\"{num1} - {num2} = {answer}\"\n",
    "\n",
    "    assert(output.split()[-1] == str(answer))\n",
    "    data_sub.append({\"input\": question, \"output\": output, \"answer\": str(answer)})\n",
    "\n",
    "\n",
    "# with open(\"dataset.json\", \"w\") as f:\n",
    "#     json.dump(data_sub, f, indent=4)"
   ]
  },
  {
   "cell_type": "code",
   "execution_count": 5,
   "id": "c3417b65",
   "metadata": {},
   "outputs": [
    {
     "name": "stdout",
     "output_type": "stream",
     "text": [
      "Multiplication nx1: 57500\n"
     ]
    }
   ],
   "source": [
    "# 1xn, up to 16 digits.\n",
    "n = 16\n",
    "\n",
    "pairs = \\\n",
    "[(random.randint(2, 9), random.randint(10**(j-1)+1, 10**j)) for j in range(2,5) for k in range(4000)] + \\\n",
    "[(random.randint(2, 9), random.randint(10**(j-1)+1, 10**j)) for j in range(5,8) for k in range(8000)] + \\\n",
    "[(0, random.randint(10**(j-1)+1, 10**j-1)) for j in range(2,n) for k in range(500)] + \\\n",
    "[(1, random.randint(10**(j-1)+1, 10**j-1)) for j in range(2,n) for k in range(500)] + \\\n",
    "[(10, random.randint(10**(j-1)+1, 10**j-1)) for j in range(2,n) for k in range(500)] + \\\n",
    "[(random.randint(1, 9), random.randint(1, 9)) for k in range(500)]\n",
    "\n",
    "# [(random.randint(2, 9), random.randint(10**(j-1)+1, 10**j)) for j in range(8,12) for k in range(12000)] + \\\n",
    "# [(random.randint(2, 9), random.randint(10**(j-1)+1, 10**j)) for j in range(12,17) for k in range(16000)] + \\\n",
    "\n",
    "random.shuffle(pairs)\n",
    "\n",
    "print(\"Multiplication nx1:\", len(pairs))\n",
    "\n",
    "data_mul_n_1 = []\n",
    "\n",
    "for num1, num2 in pairs:\n",
    "    \n",
    "    if random.random() < 0.1:\n",
    "        num1 = num1 * (10**random.randint(1,6))\n",
    "        \n",
    "    if random.random()<0.5:\n",
    "        num1, num2 = num2, num1 \n",
    "\n",
    "    answer = num1 * num2 \n",
    "\n",
    "    question = f\"{num1} * {num2}\" \n",
    "    output = f\"{num1} * {num2} = {answer}\"\n",
    "\n",
    "    assert(output.split()[-1] == str(answer))\n",
    "    data_mul_n_1.append({\"input\": question, \"output\": output, \"answer\": str(answer)})\n",
    "\n",
    "\n",
    "# with open(\"dataset.json\", \"w\") as f:\n",
    "#     json.dump(data_mul_n_1, f, indent=4)"
   ]
  },
  {
   "cell_type": "code",
   "execution_count": 6,
   "id": "abbed524",
   "metadata": {},
   "outputs": [
    {
     "name": "stdout",
     "output_type": "stream",
     "text": [
      "Multiplication nxm: 280000\n"
     ]
    }
   ],
   "source": [
    "# multi-digit multiplication, with the product up to n digits\n",
    "n = 8\n",
    "\n",
    "pairs = \\\n",
    "[(random.randint(10**(i-1)+1, 10**i-1), random.randint(10**(j-1)+1, 10**j-1)) for i in range(2,7) for j in range(i,n+1-i) for k in range(20000)] +\\\n",
    "[(random.randint(10**(i-1)+1, 10**i-1), random.randint(10**(j-1)+1, 10**j-1)) for i in range(4,7) for j in range(i,n+1-i) for k in range(20000)] +\\\n",
    "[(random.randint(10**(i-1)+1, 10**i-1), random.randint(10**(j-1)+1, 10**j-1)) for i in range(5,7) for j in range(i,n+1-i) for k in range(20000)] +\\\n",
    "[(random.randint(10**(i-1)+1, 10**i-1), random.randint(10**(i-1)+1, 10**i-1)) for i in range(3,7) for k in range(20000)] \n",
    "\n",
    "random.shuffle(pairs)\n",
    "\n",
    "print(\"Multiplication nxm:\", len(pairs))\n",
    "\n",
    "data_mul_n_m = []\n",
    "\n",
    "for num1, num2 in pairs:\n",
    "    \n",
    "    answer = num1 * num2\n",
    "    \n",
    "    if random.random() < 0.5:\n",
    "        num1, num2 = num2, num1\n",
    "\n",
    "    question = f\"{num1} * {num2}\"\n",
    "\n",
    "    if num2 > num1:\n",
    "        num1, num2 = num2, num1\n",
    "\n",
    "    num_digits_1 = len(str(num1))\n",
    "    num_digits_2 = len(str(num2))\n",
    "\n",
    "    if num1 % (10 ** (num_digits_1-1)) == 0 or num2 % (10 ** (num_digits_2-1)) == 0:\n",
    "        cot = question + \" = \" + str(answer)\n",
    "\n",
    "    else: \n",
    "        num2_digits = [int(d) for d in str(num2)]\n",
    "\n",
    "        split_terms = [d* 10**(len(num2_digits)-i-1) for i, d in enumerate(num2_digits) if d != 0]\n",
    "        split = f\"\"\"{num1} * ({\" + \".join(str(x) for x in split_terms)})\"\"\"\n",
    "\n",
    "        expansion = \" + \".join([f\"{num1} * {x}\" for x in split_terms])\n",
    "        \n",
    "        summation_terms = [num1 * x for x in split_terms]\n",
    "        summation = \" + \".join(str(x) for x in summation_terms)\n",
    "\n",
    "        step = \"\"\n",
    "        \n",
    "        while summation_terms:\n",
    "            first = summation_terms.pop(0)\n",
    "            if not summation_terms:\n",
    "                output = first\n",
    "                break\n",
    "            summation_terms[0] = first + summation_terms[0]\n",
    "            step = step + \" + \".join([f\"{x}\" for x in summation_terms]) \n",
    "            if len(summation_terms)>=2:\n",
    "                step = step + \" = \"\n",
    "\n",
    "        cot = question + \" = \" + f\"{split} = {expansion} = {summation} = \" + step\n",
    "\n",
    "    assert(cot.split()[-1] == str(answer))\n",
    "    data_mul_n_m.append({\"input\": question, \"output\": cot, \"answer\": str(answer)})\n",
    "\n",
    "\n",
    "# with open(\"dataset.json\", \"w\") as f:\n",
    "#     json.dump(data_mul_n_m, f, indent=4)"
   ]
  },
  {
   "cell_type": "code",
   "execution_count": 7,
   "id": "72441a7c",
   "metadata": {},
   "outputs": [
    {
     "name": "stdout",
     "output_type": "stream",
     "text": [
      "Division n/1: 50200\n"
     ]
    }
   ],
   "source": [
    "# Division n/1, with n up to 16 digits\n",
    "# pairs represent (divisor, quotient)\n",
    "n = 8\n",
    "\n",
    "pairs = \\\n",
    "[(random.randint(2, 9), random.randint(10**(j-1)+1, 10**j)) for j in range(1,5) for k in range(4000)] + \\\n",
    "[(random.randint(2, 9), random.randint(10**(j-1)+1, 10**j)) for j in range(5,8) for k in range(8000)] + \\\n",
    "[(1, random.randint(10**(j-1)+1, 10**j)) for j in range(1,n+1) for k in range(500)] + \\\n",
    "[(10, random.randint(10**(j-1)+1, 10**j)) for j in range(1,n+1) for k in range(500)] + \\\n",
    "[(random.randint(10**(j-1)+1, 10**j), 0) for j in range(1,n+1) for k in range(100)] + \\\n",
    "[(random.randint(1, 10), random.randint(1, 10)) for k in range(500)] +\\\n",
    "[(0, random.randint(10**(j-1)+1, 10**j)) for j in range(1,n+2) for k in range(100)]\n",
    "\n",
    "# [(random.randint(2, 9), random.randint(10**(j-1)+1, 10**j)) for j in range(8,12) for k in range(12000)] + \\\n",
    "# [(random.randint(2, 9), random.randint(10**(j-1)+1, 10**j)) for j in range(12,17) for k in range(16000)] + \\\n",
    "\n",
    "random.shuffle(pairs)\n",
    "\n",
    "print(\"Division n/1:\", len(pairs))\n",
    "\n",
    "data_div_n_1 = []\n",
    "\n",
    "for num1, num2 in pairs:\n",
    "\n",
    "    # make it divisible with 0.5 probability\n",
    "    if num1>1 and random.random() < 0.5: \n",
    "        remainder = random.randint(1, num1-1)\n",
    "    else:\n",
    "        remainder = 0\n",
    "    \n",
    "    # divided by 0\n",
    "    if num1 == 0:\n",
    "        question = f\"{num2} / {num1}\" \n",
    "        cot = question + \" is \" + \"undefined\"\n",
    "        answer = \"undefined\"\n",
    "        data_div_n_1.append({\"input\": question, \"output\": cot, \"answer\": answer})\n",
    "        continue\n",
    "        \n",
    "\n",
    "    dividend = num1 * num2 + remainder\n",
    "    \n",
    "    question = f\"{dividend} / {num1}\" \n",
    "    cot = question + \" = \" + str(num2) + \" R \" + str(remainder) if remainder!=0 else question + \" = \" + str(num2)\n",
    "    answer = str(num2) + \" R \" + str(remainder) if remainder!=0 else str(num2)\n",
    "\n",
    "    assert(cot.split()[-1] == answer.split()[-1])\n",
    "    data_div_n_1.append({\"input\": question, \"output\": cot, \"answer\": answer})\n",
    "\n",
    "\n",
    "# with open(\"dataset.json\", \"w\") as f:\n",
    "#     json.dump(data_div_n_1, f, indent=4)"
   ]
  },
  {
   "cell_type": "code",
   "execution_count": 2,
   "id": "ef572a7e",
   "metadata": {},
   "outputs": [
    {
     "ename": "NameError",
     "evalue": "name 'random' is not defined",
     "output_type": "error",
     "traceback": [
      "\u001b[0;31m---------------------------------------------------------------------------\u001b[0m",
      "\u001b[0;31mNameError\u001b[0m                                 Traceback (most recent call last)",
      "\u001b[1;32m/Users/andrewbeiler/projects/llm-data-driven-optimization/goat_code/generate_raw_dataset_500K.ipynb Cell 10\u001b[0m line \u001b[0;36m8\n\u001b[1;32m      <a href='vscode-notebook-cell:/Users/andrewbeiler/projects/llm-data-driven-optimization/goat_code/generate_raw_dataset_500K.ipynb#X12sZmlsZQ%3D%3D?line=2'>3</a>\u001b[0m n \u001b[39m=\u001b[39m \u001b[39m8\u001b[39m\n\u001b[1;32m      <a href='vscode-notebook-cell:/Users/andrewbeiler/projects/llm-data-driven-optimization/goat_code/generate_raw_dataset_500K.ipynb#X12sZmlsZQ%3D%3D?line=3'>4</a>\u001b[0m m \u001b[39m=\u001b[39m \u001b[39m8\u001b[39m\n\u001b[1;32m      <a href='vscode-notebook-cell:/Users/andrewbeiler/projects/llm-data-driven-optimization/goat_code/generate_raw_dataset_500K.ipynb#X12sZmlsZQ%3D%3D?line=5'>6</a>\u001b[0m pairs \u001b[39m=\u001b[39m \\\n\u001b[1;32m      <a href='vscode-notebook-cell:/Users/andrewbeiler/projects/llm-data-driven-optimization/goat_code/generate_raw_dataset_500K.ipynb#X12sZmlsZQ%3D%3D?line=6'>7</a>\u001b[0m [(random\u001b[39m.\u001b[39mrandint(\u001b[39m10\u001b[39m\u001b[39m*\u001b[39m\u001b[39m*\u001b[39m(j\u001b[39m-\u001b[39m\u001b[39m1\u001b[39m)\u001b[39m+\u001b[39m\u001b[39m1\u001b[39m, \u001b[39m10\u001b[39m\u001b[39m*\u001b[39m\u001b[39m*\u001b[39mj), random\u001b[39m.\u001b[39mrandint(\u001b[39m10\u001b[39m\u001b[39m*\u001b[39m\u001b[39m*\u001b[39m(i\u001b[39m-\u001b[39m\u001b[39m1\u001b[39m)\u001b[39m+\u001b[39m\u001b[39m1\u001b[39m, \u001b[39m10\u001b[39m\u001b[39m*\u001b[39m\u001b[39m*\u001b[39mi)) \u001b[39mfor\u001b[39;00m i \u001b[39min\u001b[39;00m \u001b[39mrange\u001b[39m(\u001b[39m2\u001b[39m, m) \u001b[39mfor\u001b[39;00m j \u001b[39min\u001b[39;00m \u001b[39mrange\u001b[39m(i\u001b[39m+\u001b[39m\u001b[39m1\u001b[39m, i\u001b[39m+\u001b[39mn\u001b[39m-\u001b[39mm) \u001b[39mfor\u001b[39;00m k \u001b[39min\u001b[39;00m \u001b[39mrange\u001b[39m(\u001b[39m10000\u001b[39m)] \u001b[39m+\u001b[39m\\\n\u001b[0;32m----> <a href='vscode-notebook-cell:/Users/andrewbeiler/projects/llm-data-driven-optimization/goat_code/generate_raw_dataset_500K.ipynb#X12sZmlsZQ%3D%3D?line=7'>8</a>\u001b[0m [(random\u001b[39m.\u001b[39mrandint(\u001b[39m10\u001b[39m\u001b[39m*\u001b[39m\u001b[39m*\u001b[39m(j\u001b[39m-\u001b[39m\u001b[39m1\u001b[39m)\u001b[39m+\u001b[39m\u001b[39m1\u001b[39m, \u001b[39m10\u001b[39m\u001b[39m*\u001b[39m\u001b[39m*\u001b[39mj), random\u001b[39m.\u001b[39mrandint(\u001b[39m10\u001b[39m\u001b[39m*\u001b[39m\u001b[39m*\u001b[39m(i\u001b[39m-\u001b[39m\u001b[39m1\u001b[39m)\u001b[39m+\u001b[39m\u001b[39m1\u001b[39m, \u001b[39m10\u001b[39m\u001b[39m*\u001b[39m\u001b[39m*\u001b[39mi)) \u001b[39mfor\u001b[39;00m i \u001b[39min\u001b[39;00m \u001b[39mrange\u001b[39m(\u001b[39m2\u001b[39m, m) \u001b[39mfor\u001b[39;00m j \u001b[39min\u001b[39;00m \u001b[39mrange\u001b[39m(\u001b[39m2\u001b[39m, i\u001b[39m+\u001b[39mn\u001b[39m-\u001b[39mm) \u001b[39mfor\u001b[39;00m k \u001b[39min\u001b[39;00m \u001b[39mrange\u001b[39m(\u001b[39m10000\u001b[39m)]\n\u001b[1;32m     <a href='vscode-notebook-cell:/Users/andrewbeiler/projects/llm-data-driven-optimization/goat_code/generate_raw_dataset_500K.ipynb#X12sZmlsZQ%3D%3D?line=9'>10</a>\u001b[0m random\u001b[39m.\u001b[39mshuffle(pairs)\n\u001b[1;32m     <a href='vscode-notebook-cell:/Users/andrewbeiler/projects/llm-data-driven-optimization/goat_code/generate_raw_dataset_500K.ipynb#X12sZmlsZQ%3D%3D?line=11'>12</a>\u001b[0m \u001b[39mprint\u001b[39m(\u001b[39m\"\u001b[39m\u001b[39mDivision n/m:\u001b[39m\u001b[39m\"\u001b[39m, \u001b[39mlen\u001b[39m(pairs))\n",
      "\u001b[1;32m/Users/andrewbeiler/projects/llm-data-driven-optimization/goat_code/generate_raw_dataset_500K.ipynb Cell 10\u001b[0m line \u001b[0;36m8\n\u001b[1;32m      <a href='vscode-notebook-cell:/Users/andrewbeiler/projects/llm-data-driven-optimization/goat_code/generate_raw_dataset_500K.ipynb#X12sZmlsZQ%3D%3D?line=2'>3</a>\u001b[0m n \u001b[39m=\u001b[39m \u001b[39m8\u001b[39m\n\u001b[1;32m      <a href='vscode-notebook-cell:/Users/andrewbeiler/projects/llm-data-driven-optimization/goat_code/generate_raw_dataset_500K.ipynb#X12sZmlsZQ%3D%3D?line=3'>4</a>\u001b[0m m \u001b[39m=\u001b[39m \u001b[39m8\u001b[39m\n\u001b[1;32m      <a href='vscode-notebook-cell:/Users/andrewbeiler/projects/llm-data-driven-optimization/goat_code/generate_raw_dataset_500K.ipynb#X12sZmlsZQ%3D%3D?line=5'>6</a>\u001b[0m pairs \u001b[39m=\u001b[39m \\\n\u001b[1;32m      <a href='vscode-notebook-cell:/Users/andrewbeiler/projects/llm-data-driven-optimization/goat_code/generate_raw_dataset_500K.ipynb#X12sZmlsZQ%3D%3D?line=6'>7</a>\u001b[0m [(random\u001b[39m.\u001b[39mrandint(\u001b[39m10\u001b[39m\u001b[39m*\u001b[39m\u001b[39m*\u001b[39m(j\u001b[39m-\u001b[39m\u001b[39m1\u001b[39m)\u001b[39m+\u001b[39m\u001b[39m1\u001b[39m, \u001b[39m10\u001b[39m\u001b[39m*\u001b[39m\u001b[39m*\u001b[39mj), random\u001b[39m.\u001b[39mrandint(\u001b[39m10\u001b[39m\u001b[39m*\u001b[39m\u001b[39m*\u001b[39m(i\u001b[39m-\u001b[39m\u001b[39m1\u001b[39m)\u001b[39m+\u001b[39m\u001b[39m1\u001b[39m, \u001b[39m10\u001b[39m\u001b[39m*\u001b[39m\u001b[39m*\u001b[39mi)) \u001b[39mfor\u001b[39;00m i \u001b[39min\u001b[39;00m \u001b[39mrange\u001b[39m(\u001b[39m2\u001b[39m, m) \u001b[39mfor\u001b[39;00m j \u001b[39min\u001b[39;00m \u001b[39mrange\u001b[39m(i\u001b[39m+\u001b[39m\u001b[39m1\u001b[39m, i\u001b[39m+\u001b[39mn\u001b[39m-\u001b[39mm) \u001b[39mfor\u001b[39;00m k \u001b[39min\u001b[39;00m \u001b[39mrange\u001b[39m(\u001b[39m10000\u001b[39m)] \u001b[39m+\u001b[39m\\\n\u001b[0;32m----> <a href='vscode-notebook-cell:/Users/andrewbeiler/projects/llm-data-driven-optimization/goat_code/generate_raw_dataset_500K.ipynb#X12sZmlsZQ%3D%3D?line=7'>8</a>\u001b[0m [(random\u001b[39m.\u001b[39mrandint(\u001b[39m10\u001b[39m\u001b[39m*\u001b[39m\u001b[39m*\u001b[39m(j\u001b[39m-\u001b[39m\u001b[39m1\u001b[39m)\u001b[39m+\u001b[39m\u001b[39m1\u001b[39m, \u001b[39m10\u001b[39m\u001b[39m*\u001b[39m\u001b[39m*\u001b[39mj), random\u001b[39m.\u001b[39mrandint(\u001b[39m10\u001b[39m\u001b[39m*\u001b[39m\u001b[39m*\u001b[39m(i\u001b[39m-\u001b[39m\u001b[39m1\u001b[39m)\u001b[39m+\u001b[39m\u001b[39m1\u001b[39m, \u001b[39m10\u001b[39m\u001b[39m*\u001b[39m\u001b[39m*\u001b[39mi)) \u001b[39mfor\u001b[39;00m i \u001b[39min\u001b[39;00m \u001b[39mrange\u001b[39m(\u001b[39m2\u001b[39m, m) \u001b[39mfor\u001b[39;00m j \u001b[39min\u001b[39;00m \u001b[39mrange\u001b[39m(\u001b[39m2\u001b[39m, i\u001b[39m+\u001b[39mn\u001b[39m-\u001b[39mm) \u001b[39mfor\u001b[39;00m k \u001b[39min\u001b[39;00m \u001b[39mrange\u001b[39m(\u001b[39m10000\u001b[39m)]\n\u001b[1;32m     <a href='vscode-notebook-cell:/Users/andrewbeiler/projects/llm-data-driven-optimization/goat_code/generate_raw_dataset_500K.ipynb#X12sZmlsZQ%3D%3D?line=9'>10</a>\u001b[0m random\u001b[39m.\u001b[39mshuffle(pairs)\n\u001b[1;32m     <a href='vscode-notebook-cell:/Users/andrewbeiler/projects/llm-data-driven-optimization/goat_code/generate_raw_dataset_500K.ipynb#X12sZmlsZQ%3D%3D?line=11'>12</a>\u001b[0m \u001b[39mprint\u001b[39m(\u001b[39m\"\u001b[39m\u001b[39mDivision n/m:\u001b[39m\u001b[39m\"\u001b[39m, \u001b[39mlen\u001b[39m(pairs))\n",
      "\u001b[0;31mNameError\u001b[0m: name 'random' is not defined"
     ]
    }
   ],
   "source": [
    "# Division n/m with dividend<=12 digits and quotient<=7 digits\n",
    "# pairs represent (dividend, divisor)\n",
    "n = 8\n",
    "m = 8\n",
    "\n",
    "pairs = \\\n",
    "[(random.randint(10**(j-1)+1, 10**j), random.randint(10**(i-1)+1, 10**i)) for i in range(2, m) for j in range(i+1, i+n-m) for k in range(10000)] +\\\n",
    "[(random.randint(10**(j-1)+1, 10**j), random.randint(10**(i-1)+1, 10**i)) for i in range(2, m) for j in range(2, i+n-m) for k in range(10000)]\n",
    "\n",
    "random.shuffle(pairs)\n",
    "\n",
    "print(\"Division n/m:\", len(pairs))\n",
    "\n",
    "data_div_n_m = []\n",
    "\n",
    "for num1, num2 in pairs:\n",
    "\n",
    "    quotient = num1 // num2\n",
    "    remainder = num1 % num2\n",
    "\n",
    "    # make it divisible with 0.5 probability\n",
    "    if num1 > num2 and random.random()<0.5: \n",
    "        num1 = num1 - remainder\n",
    "        quotient = num1 // num2\n",
    "        remainder = num1 % num2\n",
    "\n",
    "    question = f\"{num1} / {num2}\" \n",
    "\n",
    "    if quotient == 0:\n",
    "        cot = f\"{num1} / {num2} = {quotient} R {remainder}\"\n",
    "        answer = f\"{quotient} R {remainder}\"\n",
    "    elif num1 == num2:\n",
    "        cot = f\"{num1} / {num2} = {quotient}\"\n",
    "        answer = f\"{quotient}\"        \n",
    "\n",
    "    else:\n",
    "        step = \"\"\n",
    "        cot = \"\"\n",
    "        left = num1\n",
    "\n",
    "        i = 0\n",
    "        computed_q = 0\n",
    "\n",
    "        while left>=num2:\n",
    "            \n",
    "            if int(str(quotient)[i])!=0:\n",
    "\n",
    "                intermediate = int(str(quotient)[i] + \"0\" * (len(str(quotient))-1-i))\n",
    "\n",
    "                answer = num2 * intermediate\n",
    "\n",
    "                new_left = left - answer\n",
    "\n",
    "                step = f\"{left} - {num2} * {intermediate} = {left} - {answer} = {new_left}\\n\"\n",
    "\n",
    "                cot = cot + step\n",
    "                \n",
    "                left = new_left\n",
    "\n",
    "                computed_q = computed_q + intermediate\n",
    "\n",
    "            i = i+1\n",
    "\n",
    "        assert(left == remainder)\n",
    "        assert(computed_q == quotient)\n",
    "\n",
    "        if remainder!=0:\n",
    "            cot = cot + f\"Therefore, {num1} / {num2} = {quotient} R {remainder}\"\n",
    "            answer = f\"{quotient} R {remainder}\"\n",
    "        else:\n",
    "            cot = cot + f\"Therefore, {num1} / {num2} = {quotient}\"\n",
    "            answer = f\"{quotient}\"\n",
    "\n",
    "    assert(cot.split()[-1] == answer.split()[-1])\n",
    "    data_div_n_m.append({\"input\": question, \"output\": cot, \"answer\": answer})\n",
    "\n",
    "\n",
    "# with open(\"dataset.json\", \"w\") as f:\n",
    "#     json.dump(data_div_n_m, f, indent=4)"
   ]
  },
  {
   "cell_type": "code",
   "execution_count": 1,
   "id": "da4a6579",
   "metadata": {},
   "outputs": [
    {
     "ename": "NameError",
     "evalue": "name 'data_add' is not defined",
     "output_type": "error",
     "traceback": [
      "\u001b[0;31m---------------------------------------------------------------------------\u001b[0m",
      "\u001b[0;31mNameError\u001b[0m                                 Traceback (most recent call last)",
      "\u001b[1;32m/Users/andrewbeiler/projects/llm-data-driven-optimization/goat_code/generate_raw_dataset_500K.ipynb Cell 11\u001b[0m line \u001b[0;36m4\n\u001b[1;32m      <a href='vscode-notebook-cell:/Users/andrewbeiler/projects/llm-data-driven-optimization/goat_code/generate_raw_dataset_500K.ipynb#X14sZmlsZQ%3D%3D?line=0'>1</a>\u001b[0m \u001b[39m# # Random Sample of n Number of Data Points\u001b[39;00m\n\u001b[1;32m      <a href='vscode-notebook-cell:/Users/andrewbeiler/projects/llm-data-driven-optimization/goat_code/generate_raw_dataset_500K.ipynb#X14sZmlsZQ%3D%3D?line=1'>2</a>\u001b[0m \u001b[39mfrom\u001b[39;00m \u001b[39mrandom\u001b[39;00m \u001b[39mimport\u001b[39;00m sample\n\u001b[0;32m----> <a href='vscode-notebook-cell:/Users/andrewbeiler/projects/llm-data-driven-optimization/goat_code/generate_raw_dataset_500K.ipynb#X14sZmlsZQ%3D%3D?line=3'>4</a>\u001b[0m all_data \u001b[39m=\u001b[39m data_add \u001b[39m+\u001b[39m data_sub \u001b[39m+\u001b[39m data_mul_n_1 \u001b[39m+\u001b[39m data_mul_n_m \u001b[39m+\u001b[39m data_div_n_1 \u001b[39m+\u001b[39m data_div_n_m\n\u001b[1;32m      <a href='vscode-notebook-cell:/Users/andrewbeiler/projects/llm-data-driven-optimization/goat_code/generate_raw_dataset_500K.ipynb#X14sZmlsZQ%3D%3D?line=4'>5</a>\u001b[0m \u001b[39mprint\u001b[39m(\u001b[39mf\u001b[39m\u001b[39m\"\u001b[39m\u001b[39mTotal Data Points: \u001b[39m\u001b[39m{\u001b[39;00m\u001b[39mlen\u001b[39m(all_data)\u001b[39m}\u001b[39;00m\u001b[39m\"\u001b[39m)\n\u001b[1;32m      <a href='vscode-notebook-cell:/Users/andrewbeiler/projects/llm-data-driven-optimization/goat_code/generate_raw_dataset_500K.ipynb#X14sZmlsZQ%3D%3D?line=6'>7</a>\u001b[0m n_samples \u001b[39m=\u001b[39m \u001b[39m500000\u001b[39m\n",
      "\u001b[0;31mNameError\u001b[0m: name 'data_add' is not defined"
     ]
    }
   ],
   "source": [
    "# # Random Sample of n Number of Data Points\n",
    "from random import sample\n",
    "\n",
    "all_data = data_add + data_sub + data_mul_n_1 + data_mul_n_m + data_div_n_1 + data_div_n_m\n",
    "print(f\"Total Data Points: {len(all_data)}\")\n",
    "\n",
    "n_samples = 500000\n",
    "sampled_data = sample(all_data, n_samples)\n",
    "print(f\"Sampled Data Points: {len(sampled_data)}\")\n",
    "print(f\"Example Data Point: {sampled_data[0]}\")\n",
    "\n",
    "# with open(\"raw_dataset_500K.json\", \"w\") as f:\n",
    "#     json.dump(sampled_data, f, indent=4)"
   ]
  }
 ],
 "metadata": {
  "kernelspec": {
   "display_name": "Python 3 (ipykernel)",
   "language": "python",
   "name": "python3"
  },
  "language_info": {
   "codemirror_mode": {
    "name": "ipython",
    "version": 3
   },
   "file_extension": ".py",
   "mimetype": "text/x-python",
   "name": "python",
   "nbconvert_exporter": "python",
   "pygments_lexer": "ipython3",
   "version": "3.10.12"
  }
 },
 "nbformat": 4,
 "nbformat_minor": 5
}
